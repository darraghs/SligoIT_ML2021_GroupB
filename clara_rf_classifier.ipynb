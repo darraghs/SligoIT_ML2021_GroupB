{
 "cells": [
  {
   "cell_type": "markdown",
   "id": "f232381c-3360-467b-b618-677fecbc828c",
   "metadata": {},
   "source": [
    "## Random Forest Classifier"
   ]
  },
  {
   "cell_type": "markdown",
   "id": "8e29677e-7711-47d3-bfa1-b200254c5628",
   "metadata": {},
   "source": [
    "### 1) Libraries"
   ]
  },
  {
   "cell_type": "code",
   "execution_count": null,
   "id": "2382b91e-ce43-46d6-a48d-0f5733ab5f1e",
   "metadata": {},
   "outputs": [],
   "source": [
    "import pandas as pd\n",
    "import numpy as np\n",
    "import matplotlib.pyplot as plt\n",
    "import matplotlib\n",
    "import seaborn as sns\n",
    "from sklearn.preprocessing import MinMaxScaler\n",
    "from sklearn.preprocessing import RobustScaler\n",
    "from sklearn.preprocessing import OneHotEncoder\n",
    "from sklearn.ensemble import RandomForestClassifier\n",
    "from sklearn.model_selection import GridSearchCV\n",
    "from sklearn.feature_selection import SelectKBest\n",
    "from sklearn.feature_selection import f_classif\n",
    "from sklearn.model_selection import StratifiedKFold\n",
    "from sklearn.model_selection import cross_val_score\n",
    "from sklearn.model_selection import RepeatedStratifiedKFold\n",
    "from sklearn.metrics import classification_report, confusion_matrix\n",
    "from sklearn.metrics import roc_curve, auc\n",
    "from sklearn.model_selection import train_test_split"
   ]
  },
  {
   "cell_type": "markdown",
   "id": "4dd51908-096b-4af7-b1ae-fdd81f3fb3dd",
   "metadata": {},
   "source": [
    "### 2) Read in Data"
   ]
  },
  {
   "cell_type": "code",
   "execution_count": null,
   "id": "837982f2-6841-41f6-a877-78fe1f9415c2",
   "metadata": {},
   "outputs": [],
   "source": [
    "## Read in CSV\n",
    "\n",
    "opal_corsa_01 = pd.read_csv(\"opel_corsa_01.csv\", sep = ';')\n",
    "opal_corsa_01[\"Make\"] = \"Opal_Corsa\"\n",
    "opal_corsa_01[\"Source File\"] = 1\n",
    "\n",
    "\n",
    "opal_corsa_02 = pd.read_csv(\"opel_corsa_02.csv\", sep = ';')\n",
    "opal_corsa_02[\"Make\"] = \"Opal_Corsa\"\n",
    "opal_corsa_02[\"Source File\"] = 2\n",
    "\n",
    "peugeot_207_01 = pd.read_csv(\"peugeot_207_01.csv\", sep = ';')\n",
    "peugeot_207_01[\"Make\"] = \"Peugeot_207\"\n",
    "peugeot_207_01[\"Source File\"] = 1\n",
    "\n",
    "peugeot_207_02 = pd.read_csv(\"peugeot_207_01.csv\", sep = ';')\n",
    "peugeot_207_02[\"Make\"] = \"Peugeot_207\"\n",
    "peugeot_207_02[\"Source File\"] = 2\n",
    "\n",
    "dataset = [opal_corsa_01, opal_corsa_02, peugeot_207_01, peugeot_207_02]\n",
    "\n",
    "combined = pd.concat(dataset)\n",
    "\n",
    "data_pre_cleaning = combined.rename({'Unnamed: 0':'ID'}, axis = 1)\n",
    "\n",
    "data_pre_cleaning.to_csv(\"pre_cleaning_dataset.csv\",index = False)"
   ]
  },
  {
   "cell_type": "code",
   "execution_count": null,
   "id": "fe5f0f75-699e-4b75-93a8-45a23253b42e",
   "metadata": {},
   "outputs": [],
   "source": [
    "data = pd.read_csv(\"pre_cleaning_dataset.csv\", sep = ',')\n",
    "data[\"Make_f\"] = data[\"Make\"]"
   ]
  },
  {
   "cell_type": "markdown",
   "id": "44d229e2-9263-4cf7-b873-78ab9de8df9b",
   "metadata": {},
   "source": [
    "##### Add Index:"
   ]
  },
  {
   "cell_type": "code",
   "execution_count": null,
   "id": "4ffd67ac-7d71-4bb2-ad76-9827d1c3af8f",
   "metadata": {},
   "outputs": [],
   "source": [
    "data = data.set_index([\"ID\", \"Make\", \"Source File\"])"
   ]
  },
  {
   "cell_type": "markdown",
   "id": "7e0eac58-4ee5-4570-ab25-eb14ffb328fc",
   "metadata": {},
   "source": [
    "### 3) Data Cleaning"
   ]
  },
  {
   "cell_type": "markdown",
   "id": "67aa0160-2539-42f2-938b-d59826f46704",
   "metadata": {
    "tags": []
   },
   "source": [
    "#####  Remove Null values (only 10 of them)"
   ]
  },
  {
   "cell_type": "code",
   "execution_count": null,
   "id": "ecf6ec0e-7262-4c2e-b955-5d70f4d0b2f1",
   "metadata": {},
   "outputs": [],
   "source": [
    "data.shape"
   ]
  },
  {
   "cell_type": "code",
   "execution_count": null,
   "id": "57d83c51-e281-4c94-b90e-68120e4c5260",
   "metadata": {},
   "outputs": [],
   "source": [
    "#Before removing NA's, want to check they don't belong to \"Aggresive\" class since there's a pretty bit imbalance"
   ]
  },
  {
   "cell_type": "code",
   "execution_count": null,
   "id": "706d9806-80dc-48da-885c-331aa4111d8a",
   "metadata": {},
   "outputs": [],
   "source": [
    "data.isna().any()\n",
    "is_na = data.isnull()\n",
    "row_has_NaN = is_na.any(axis=1)\n",
    "rows_with_NaN = data[row_has_NaN]\n",
    "rows_with_NaN"
   ]
  },
  {
   "cell_type": "code",
   "execution_count": null,
   "id": "f13cdb84-66e3-40bd-898c-fe00ce13fd7c",
   "metadata": {},
   "outputs": [],
   "source": [
    "data_na_removed = data.dropna()\n",
    "data_na_removed.shape"
   ]
  },
  {
   "cell_type": "markdown",
   "id": "7fd10a5f-b914-4cf5-84e0-da41811bb730",
   "metadata": {},
   "source": [
    "##### Feature Selection"
   ]
  },
  {
   "cell_type": "markdown",
   "id": "d6c59b72-1905-4ab9-9298-ad583fe482e1",
   "metadata": {},
   "source": [
    "Divide into x and y here"
   ]
  },
  {
   "cell_type": "code",
   "execution_count": null,
   "id": "0bab5a07-e94f-41fc-8efd-d91a2e880783",
   "metadata": {},
   "outputs": [],
   "source": [
    "X = data_na_removed.drop([\"roadSurface\", \"traffic\", \"drivingStyle\"], axis = 1)\n",
    "X = X.replace('Opal_Corsa', 0)\n",
    "X = X.replace('Peugeot_207', 1)"
   ]
  },
  {
   "cell_type": "code",
   "execution_count": null,
   "id": "b6cde0a0-94b0-43f2-b7a7-fd19a6a0e99f",
   "metadata": {},
   "outputs": [],
   "source": [
    "y = data_na_removed[\"drivingStyle\"]\n",
    "y = y.replace('EvenPaceStyle', 0)\n",
    "y = y.replace('AggressiveStyle', 1)              "
   ]
  },
  {
   "cell_type": "markdown",
   "id": "06c7d1f8-7a9b-498f-98e0-9b01e3c4c3b4",
   "metadata": {},
   "source": [
    "##### Look At Correlations"
   ]
  },
  {
   "cell_type": "code",
   "execution_count": null,
   "id": "8dce0025-08f4-460f-a8ef-8a174504221a",
   "metadata": {},
   "outputs": [],
   "source": [
    "X.corr()"
   ]
  },
  {
   "cell_type": "code",
   "execution_count": null,
   "id": "e7866d55-5ae9-4866-875f-6f5a7e672047",
   "metadata": {},
   "outputs": [],
   "source": [
    "plt.figure(figsize=(12,10))\n",
    "cor = X.corr()\n",
    "sns.heatmap(cor, annot=True, cmap=\"coolwarm\")\n",
    "plt.show()"
   ]
  },
  {
   "cell_type": "code",
   "execution_count": null,
   "id": "ebcf6b40-93d5-4804-8ebb-f2488e63d701",
   "metadata": {},
   "outputs": [],
   "source": [
    "cor[(cor >0.8) | (cor <-0.8)]"
   ]
  },
  {
   "cell_type": "markdown",
   "id": "e771cb46-1fb2-4cb6-b87c-6610b7915139",
   "metadata": {},
   "source": [
    "Pairs with Correlation Higher than 0.8: \n",
    "- VehicleSpeedAverage & VehicleSpeedInstantaneous (0.877891)\n",
    "- VehicleSpeedInstantaneous & MassAirFlow (0.829004)\n",
    "- VehicleSpeedInstantaneous & EngineRPM (0.858727)\n",
    "- ManifoldAbsolutePressure & MassAirflow (0.869857) \n",
    "- MassAirflow & EngineRPM (0.885939)\n",
    "\n",
    "Check each pair using the SelectKBest Feature to see which is more valuable for prediction:"
   ]
  },
  {
   "cell_type": "code",
   "execution_count": null,
   "id": "a9c61506-51db-464f-ac39-a833b7854c14",
   "metadata": {},
   "outputs": [],
   "source": [
    "## VehicleSpeedAverage & VehicleSpeedInstantaneous\n",
    "fs = SelectKBest(score_func=f_classif, k=1)\n",
    "X_selected = fs.fit(X[[\"VehicleSpeedAverage\", \"VehicleSpeedInstantaneous\"]], y)\n",
    "cols = X_selected.get_support(indices=True)\n",
    "X_new = X[[\"VehicleSpeedAverage\", \"VehicleSpeedInstantaneous\"]].iloc[:,cols]\n",
    "X_new.columns"
   ]
  },
  {
   "cell_type": "code",
   "execution_count": null,
   "id": "63ea437c-788e-45ec-9da4-f2d8a30e127a",
   "metadata": {},
   "outputs": [],
   "source": [
    "## MassAirFlow & VehicleSpeedInstantaneous\n",
    "fs = SelectKBest(score_func=f_classif, k=1)\n",
    "X_selected = fs.fit(X[[\"MassAirFlow\", \"VehicleSpeedInstantaneous\"]], y)\n",
    "cols = X_selected.get_support(indices=True)\n",
    "X_new = X[[\"MassAirFlow\", \"VehicleSpeedInstantaneous\"]].iloc[:,cols]\n",
    "X_new.columns"
   ]
  },
  {
   "cell_type": "code",
   "execution_count": null,
   "id": "75032c19-1856-47fa-ba31-30e52c5729bf",
   "metadata": {},
   "outputs": [],
   "source": [
    "## EngineRPM & VehicleSpeedInstantaneous\n",
    "fs = SelectKBest(score_func=f_classif, k=1)\n",
    "X_selected = fs.fit(X[[\"EngineRPM\", \"VehicleSpeedInstantaneous\"]], y)\n",
    "cols = X_selected.get_support(indices=True)\n",
    "X_new = X[[\"EngineRPM\", \"VehicleSpeedInstantaneous\"]].iloc[:,cols]\n",
    "X_new.columns"
   ]
  },
  {
   "cell_type": "code",
   "execution_count": null,
   "id": "d6428628-65f3-4893-a72c-a9281baad8e2",
   "metadata": {},
   "outputs": [],
   "source": [
    "## ManifoldAbsolutePressure & MassAirFlow\n",
    "fs = SelectKBest(score_func=f_classif, k=1)\n",
    "X_selected = fs.fit(X[[\"ManifoldAbsolutePressure\", \"MassAirFlow\"]], y)\n",
    "cols = X_selected.get_support(indices=True)\n",
    "X_new = X[[\"ManifoldAbsolutePressure\", \"MassAirFlow\"]].iloc[:,cols]\n",
    "X_new.columns"
   ]
  },
  {
   "cell_type": "code",
   "execution_count": null,
   "id": "a62af99d-3540-4656-aa6c-3364d3fbca59",
   "metadata": {},
   "outputs": [],
   "source": [
    "## EngineRPM & MassAirFlow\n",
    "fs = SelectKBest(score_func=f_classif, k=1)\n",
    "X_selected = fs.fit(X[[\"EngineRPM\", \"MassAirFlow\"]], y)\n",
    "cols = X_selected.get_support(indices=True)\n",
    "X_new = X[[\"EngineRPM\", \"MassAirFlow\"]].iloc[:,cols]\n",
    "X_new.columns"
   ]
  },
  {
   "cell_type": "markdown",
   "id": "8f6c3103-62d1-4f00-92e1-641a881b9c87",
   "metadata": {},
   "source": [
    "Propose Two Datasets: \n",
    "- Keep VehicleSpeedInstantaneous,  ManifoldAbsolutePressure and remove VehicleSpeedAverage, MassAirflow, EngineRPM\n",
    "- Remove VehicleSpeedInstantaneous, MassAirflow and Keep EngineRPM, VehicleSpeedAverage, ManifoldAbsolutePressure"
   ]
  },
  {
   "cell_type": "markdown",
   "id": "db7c058e-fd9c-48b8-abe9-c613cc382e72",
   "metadata": {},
   "source": [
    "##### Feature Importance using SelectKBest"
   ]
  },
  {
   "cell_type": "code",
   "execution_count": null,
   "id": "32fa9812-d2f3-4413-bcf6-78a259c76d53",
   "metadata": {},
   "outputs": [],
   "source": [
    "X_1 = X.drop(['VehicleSpeedAverage', 'MassAirFlow', 'EngineRPM'], axis = 1)\n",
    "X_2 = X.drop(['VehicleSpeedInstantaneous', 'MassAirFlow'], axis = 1)\n",
    "\n",
    "## Select Top 9 Features for X_1:\n",
    "fs = SelectKBest(score_func=f_classif, k=9)\n",
    "# apply feature selection\n",
    "X_1_selected = fs.fit(X_1, y)\n",
    "cols = X_1_selected.get_support(indices=True)\n",
    "X_1_reduced = X_1.iloc[:,cols]\n",
    "\n",
    "\n",
    "## Select Top 9 Features for X_2:\n",
    "fs = SelectKBest(score_func=f_classif, k=9)\n",
    "# apply feature selection\n",
    "X_2_selected = fs.fit(X_2, y)\n",
    "cols = X_2_selected.get_support(indices=True)\n",
    "X_2_reduced = X_2.iloc[:,cols]\n"
   ]
  },
  {
   "cell_type": "code",
   "execution_count": null,
   "id": "7477bdad-b9ff-4ddc-9ffa-da528c20d459",
   "metadata": {},
   "outputs": [],
   "source": [
    "X_1_reduced.columns"
   ]
  },
  {
   "cell_type": "code",
   "execution_count": null,
   "id": "98ce55e1-2a9f-4a72-840c-e7144bf32fc0",
   "metadata": {},
   "outputs": [],
   "source": [
    "X_2_reduced.columns"
   ]
  },
  {
   "cell_type": "markdown",
   "id": "45283106-9370-4aff-9de7-9a77a564abe4",
   "metadata": {},
   "source": [
    "##### PCA "
   ]
  },
  {
   "cell_type": "code",
   "execution_count": null,
   "id": "a0c14690-8818-477a-afce-732e4a5b5d60",
   "metadata": {},
   "outputs": [],
   "source": [
    "#from sklearn.decomposition import PCA\n",
    "#scaler = MinMaxScaler()\n",
    "#X_1_reduced_scaled = scaler.fit_transform(X_1_reduced)\n",
    "#pca = PCA(n_components=3)\n",
    "#X_1_pca = pca.fit_transform(X_1_reduced_scaled)\n",
    "##X_1_pca_values = pd.DataFrame(data = principalComponents)\n",
    "#\n",
    "#X_2_reduced_scaled = scaler.fit_transform(X_2_reduced)\n",
    "#pca = PCA(n_components=3)\n",
    "#X_2_pca = pca.fit_transform(X_2_reduced_scaled)\n",
    "##X_2_pca_values = pd.DataFrame(data = principalComponents)"
   ]
  },
  {
   "cell_type": "code",
   "execution_count": null,
   "id": "be220232-fcee-48ef-9fda-943544fb3dd6",
   "metadata": {},
   "outputs": [],
   "source": [
    "scaler = MinMaxScaler()\n",
    "X_1_reduced_scaled = scaler.fit_transform(X_1_reduced)\n",
    "X_2_reduced_scaled = scaler.fit_transform(X_2_reduced)"
   ]
  },
  {
   "cell_type": "markdown",
   "id": "211cded6-7853-4918-92ab-fff70b86f326",
   "metadata": {},
   "source": []
  },
  {
   "cell_type": "code",
   "execution_count": null,
   "id": "3d8cea96-2838-46a2-96e9-18ef2c6d1351",
   "metadata": {},
   "outputs": [],
   "source": [
    "#scaler = MinMaxScaler()\n",
    "#opal_1 = X_1_reduced[(X_1_reduced[\"Make_f\"] == 0) & (X[\"source_file\"] == 1)].drop(\"Make_f\", axis = 1)\n",
    "#X_1_reduced_scaled_0_1 = scaler.fit_transform(opal_1)\n",
    "#opal_2 = X_1_reduced[(X_1_reduced[\"Make_f\"] == 0) & (X[\"source_file\"] == 2)].drop(\"Make_f\", axis = 1)\n",
    "#X_1_reduced_scaled_0_2 = scaler.fit_transform(opal_2)\n",
    "#\n",
    "#X_1_reduced_scaled_0 = np.concatenate((X_1_reduced_scaled_0_1, X_1_reduced_scaled_0_2))\n",
    "#X_1_reduced_scaled_0 = np.append(X_1_reduced_scaled_0, np.array( X_1_reduced[\"Make_f\"][X_1_reduced[\"Make_f\"] == 0]).reshape(-1,1), axis = 1)\n",
    "#"
   ]
  },
  {
   "cell_type": "code",
   "execution_count": null,
   "id": "5e268550-10de-408d-9e67-48b566516b93",
   "metadata": {},
   "outputs": [],
   "source": [
    "#scaler = MinMaxScaler()\n",
    "#peugeot_1 = X_1_reduced[(X_1_reduced[\"Make_f\"] == 1) & (X[\"source_file\"] == 1)].drop(\"Make_f\", axis = 1)\n",
    "#X_1_reduced_scaled_1_1 = scaler.fit_transform(peugeot_1)\n",
    "#peugeot_2 = X_1_reduced[(X_1_reduced[\"Make_f\"] == 1) & (X[\"source_file\"] == 2)].drop(\"Make_f\", axis = 1)\n",
    "#X_1_reduced_scaled_1_2 = scaler.fit_transform(peugeot_2)\n",
    "#\n",
    "#X_1_reduced_scaled_1 = np.concatenate((X_1_reduced_scaled_1_1, X_1_reduced_scaled_1_2))\n",
    "#X_1_reduced_scaled_1 = np.append(X_1_reduced_scaled_1, np.array( X_1_reduced[\"Make_f\"][X_1_reduced[\"Make_f\"] == 1]).reshape(-1,1), axis = 1)\n",
    "#"
   ]
  },
  {
   "cell_type": "code",
   "execution_count": null,
   "id": "1c65212f-f70c-4e08-9bde-0a9d02967c96",
   "metadata": {},
   "outputs": [],
   "source": [
    "#X_1_reduced_scaled = np.concatenate((X_1_reduced_scaled_0, X_1_reduced_scaled_1))"
   ]
  },
  {
   "cell_type": "code",
   "execution_count": null,
   "id": "f3214863-ca57-40e5-a9e7-a5a24230d897",
   "metadata": {},
   "outputs": [],
   "source": [
    "def runRF(X_train, X_test, y_train, y_test, cv_folds = 5):\n",
    "    clf = RandomForestClassifier(max_depth=5, random_state=45)\n",
    "    param_grid = { \n",
    "        'max_features': ['auto', 'sqrt', 'log2'],\n",
    "        'max_depth' : [4,5,6,7,8],\n",
    "        'criterion' :['gini', 'entropy']\n",
    "    }\n",
    "    CV_rfc = GridSearchCV(estimator=clf, param_grid=param_grid, cv= 5)\n",
    "    CV_rfc.fit(X_train,y_train)\n",
    "    rf_predict = CV_rfc.predict(X_test)\n",
    "    tab = confusion_matrix(y_test, rf_predict, labels = [0,1])\n",
    "    confusion = pd.DataFrame(tab, index = ['is_even', 'is_aggressive'], \n",
    "                             columns = ['predicted_even', 'predicted_aggressive'])\n",
    "    print(confusion)\n",
    "    print(classification_report(y_test, rf_predict))                        "
   ]
  },
  {
   "cell_type": "markdown",
   "id": "dc72cbf2-7cfb-4614-8ca9-ebc7e5d82332",
   "metadata": {},
   "source": [
    "### Training the model"
   ]
  },
  {
   "cell_type": "markdown",
   "id": "ff9ad083-5def-4aa2-9585-7a472d4e1ae6",
   "metadata": {},
   "source": [
    "##### Using the first set of variables X_1"
   ]
  },
  {
   "cell_type": "code",
   "execution_count": null,
   "id": "40d9046f-20e9-4b8d-9aa9-50f6160a9bcd",
   "metadata": {},
   "outputs": [],
   "source": [
    "X_train, X_test, y_train, y_test = train_test_split(X_1_reduced_scaled, y, test_size=0.1, random_state=55)"
   ]
  },
  {
   "cell_type": "code",
   "execution_count": null,
   "id": "9ea29833-2bb9-4094-bd76-cddb003b4222",
   "metadata": {},
   "outputs": [],
   "source": [
    "runRF(X_train, X_test, y_train, y_test)"
   ]
  }
 ],
 "metadata": {
  "kernelspec": {
   "display_name": "Python 3",
   "language": "python",
   "name": "python3"
  },
  "language_info": {
   "codemirror_mode": {
    "name": "ipython",
    "version": 3
   },
   "file_extension": ".py",
   "mimetype": "text/x-python",
   "name": "python",
   "nbconvert_exporter": "python",
   "pygments_lexer": "ipython3",
   "version": "3.7.8"
  }
 },
 "nbformat": 4,
 "nbformat_minor": 5
}

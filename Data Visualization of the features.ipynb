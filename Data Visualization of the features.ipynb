{
 "cells": [
  {
   "cell_type": "markdown",
   "metadata": {},
   "source": [
    "# Binary Classification Logistic Regresion"
   ]
  },
  {
   "cell_type": "markdown",
   "metadata": {},
   "source": [
    "in order to see visually if the features are correlated with the classification, in this case as an example I took one of the examples for the Opel corsa car. the idea is to do it with both cars and see. "
   ]
  },
  {
   "cell_type": "markdown",
   "metadata": {},
   "source": [
    "in this case the roadSurface is the independent variable (X) with 0 value as UnevenCondition and 1 as SmoothCondition and the feature the dependent variable (Y) ."
   ]
  },
  {
   "cell_type": "code",
   "execution_count": 45,
   "metadata": {},
   "outputs": [],
   "source": [
    "from matplotlib import pyplot as plt\n",
    "import pandas as pd"
   ]
  },
  {
   "cell_type": "code",
   "execution_count": 115,
   "metadata": {},
   "outputs": [],
   "source": [
    "data = pd.read_csv('pre_cleaning_dataset.csv')"
   ]
  },
  {
   "cell_type": "code",
   "execution_count": 116,
   "metadata": {
    "scrolled": true
   },
   "outputs": [
    {
     "data": {
      "text/html": [
       "<div>\n",
       "<style scoped>\n",
       "    .dataframe tbody tr th:only-of-type {\n",
       "        vertical-align: middle;\n",
       "    }\n",
       "\n",
       "    .dataframe tbody tr th {\n",
       "        vertical-align: top;\n",
       "    }\n",
       "\n",
       "    .dataframe thead th {\n",
       "        text-align: right;\n",
       "    }\n",
       "</style>\n",
       "<table border=\"1\" class=\"dataframe\">\n",
       "  <thead>\n",
       "    <tr style=\"text-align: right;\">\n",
       "      <th></th>\n",
       "      <th>AltitudeVariation</th>\n",
       "      <th>VehicleSpeedInstantaneous</th>\n",
       "      <th>VehicleSpeedAverage</th>\n",
       "      <th>VehicleSpeedVariance</th>\n",
       "      <th>VehicleSpeedVariation</th>\n",
       "      <th>LongitudinalAcceleration</th>\n",
       "      <th>EngineLoad</th>\n",
       "      <th>EngineCoolantTemperature</th>\n",
       "      <th>ManifoldAbsolutePressure</th>\n",
       "      <th>EngineRPM</th>\n",
       "      <th>MassAirFlow</th>\n",
       "      <th>IntakeAirTemperature</th>\n",
       "      <th>VerticalAcceleration</th>\n",
       "      <th>FuelConsumptionAverage</th>\n",
       "      <th>roadSurface</th>\n",
       "      <th>traffic</th>\n",
       "      <th>drivingStyle</th>\n",
       "      <th>Make</th>\n",
       "      <th>Source File</th>\n",
       "    </tr>\n",
       "  </thead>\n",
       "  <tbody>\n",
       "    <tr>\n",
       "      <th>0</th>\n",
       "      <td>-2.299988</td>\n",
       "      <td>25.670519</td>\n",
       "      <td>13.223501</td>\n",
       "      <td>121.592690</td>\n",
       "      <td>-2.476980</td>\n",
       "      <td>0.3555</td>\n",
       "      <td>4.705883</td>\n",
       "      <td>68.0</td>\n",
       "      <td>106.0</td>\n",
       "      <td>1796.0</td>\n",
       "      <td>15.81</td>\n",
       "      <td>24.0</td>\n",
       "      <td>-0.1133</td>\n",
       "      <td>19.497335</td>\n",
       "      <td>SmoothCondition</td>\n",
       "      <td>LowCongestionCondition</td>\n",
       "      <td>EvenPaceStyle</td>\n",
       "      <td>Opal Corsa</td>\n",
       "      <td>1</td>\n",
       "    </tr>\n",
       "    <tr>\n",
       "      <th>1</th>\n",
       "      <td>-2.099976</td>\n",
       "      <td>24.094259</td>\n",
       "      <td>13.638919</td>\n",
       "      <td>120.422571</td>\n",
       "      <td>-1.576260</td>\n",
       "      <td>0.4492</td>\n",
       "      <td>10.588236</td>\n",
       "      <td>68.0</td>\n",
       "      <td>103.0</td>\n",
       "      <td>1689.0</td>\n",
       "      <td>14.65</td>\n",
       "      <td>22.0</td>\n",
       "      <td>-0.1289</td>\n",
       "      <td>19.515722</td>\n",
       "      <td>SmoothCondition</td>\n",
       "      <td>LowCongestionCondition</td>\n",
       "      <td>EvenPaceStyle</td>\n",
       "      <td>Opal Corsa</td>\n",
       "      <td>1</td>\n",
       "    </tr>\n",
       "    <tr>\n",
       "      <th>2</th>\n",
       "      <td>-1.500000</td>\n",
       "      <td>22.743179</td>\n",
       "      <td>14.031043</td>\n",
       "      <td>118.456769</td>\n",
       "      <td>-1.351080</td>\n",
       "      <td>0.4258</td>\n",
       "      <td>27.450981</td>\n",
       "      <td>68.0</td>\n",
       "      <td>103.0</td>\n",
       "      <td>1599.0</td>\n",
       "      <td>11.85</td>\n",
       "      <td>21.0</td>\n",
       "      <td>-0.1328</td>\n",
       "      <td>19.441765</td>\n",
       "      <td>SmoothCondition</td>\n",
       "      <td>LowCongestionCondition</td>\n",
       "      <td>EvenPaceStyle</td>\n",
       "      <td>Opal Corsa</td>\n",
       "      <td>1</td>\n",
       "    </tr>\n",
       "    <tr>\n",
       "      <th>3</th>\n",
       "      <td>0.100037</td>\n",
       "      <td>22.292820</td>\n",
       "      <td>14.171073</td>\n",
       "      <td>117.571308</td>\n",
       "      <td>-0.450359</td>\n",
       "      <td>0.4140</td>\n",
       "      <td>24.313726</td>\n",
       "      <td>69.0</td>\n",
       "      <td>104.0</td>\n",
       "      <td>1620.0</td>\n",
       "      <td>12.21</td>\n",
       "      <td>20.0</td>\n",
       "      <td>-0.0859</td>\n",
       "      <td>19.388769</td>\n",
       "      <td>SmoothCondition</td>\n",
       "      <td>LowCongestionCondition</td>\n",
       "      <td>EvenPaceStyle</td>\n",
       "      <td>Opal Corsa</td>\n",
       "      <td>1</td>\n",
       "    </tr>\n",
       "    <tr>\n",
       "      <th>4</th>\n",
       "      <td>0.099976</td>\n",
       "      <td>23.643900</td>\n",
       "      <td>14.328954</td>\n",
       "      <td>117.074149</td>\n",
       "      <td>1.351080</td>\n",
       "      <td>0.3945</td>\n",
       "      <td>20.000000</td>\n",
       "      <td>69.0</td>\n",
       "      <td>104.0</td>\n",
       "      <td>1708.0</td>\n",
       "      <td>11.91</td>\n",
       "      <td>21.0</td>\n",
       "      <td>-0.0664</td>\n",
       "      <td>19.301638</td>\n",
       "      <td>SmoothCondition</td>\n",
       "      <td>LowCongestionCondition</td>\n",
       "      <td>EvenPaceStyle</td>\n",
       "      <td>Opal Corsa</td>\n",
       "      <td>1</td>\n",
       "    </tr>\n",
       "    <tr>\n",
       "      <th>...</th>\n",
       "      <td>...</td>\n",
       "      <td>...</td>\n",
       "      <td>...</td>\n",
       "      <td>...</td>\n",
       "      <td>...</td>\n",
       "      <td>...</td>\n",
       "      <td>...</td>\n",
       "      <td>...</td>\n",
       "      <td>...</td>\n",
       "      <td>...</td>\n",
       "      <td>...</td>\n",
       "      <td>...</td>\n",
       "      <td>...</td>\n",
       "      <td>...</td>\n",
       "      <td>...</td>\n",
       "      <td>...</td>\n",
       "      <td>...</td>\n",
       "      <td>...</td>\n",
       "      <td>...</td>\n",
       "    </tr>\n",
       "    <tr>\n",
       "      <th>27523</th>\n",
       "      <td>-0.500000</td>\n",
       "      <td>0.000000</td>\n",
       "      <td>26.114999</td>\n",
       "      <td>128.927056</td>\n",
       "      <td>0.000000</td>\n",
       "      <td>2.1969</td>\n",
       "      <td>30.196079</td>\n",
       "      <td>79.0</td>\n",
       "      <td>103.0</td>\n",
       "      <td>751.0</td>\n",
       "      <td>4.24</td>\n",
       "      <td>30.0</td>\n",
       "      <td>-1.5839</td>\n",
       "      <td>14.492782</td>\n",
       "      <td>UnevenCondition</td>\n",
       "      <td>LowCongestionCondition</td>\n",
       "      <td>EvenPaceStyle</td>\n",
       "      <td>Peugeot 207</td>\n",
       "      <td>2</td>\n",
       "    </tr>\n",
       "    <tr>\n",
       "      <th>27524</th>\n",
       "      <td>0.000000</td>\n",
       "      <td>0.000000</td>\n",
       "      <td>25.395000</td>\n",
       "      <td>135.011667</td>\n",
       "      <td>0.000000</td>\n",
       "      <td>2.1127</td>\n",
       "      <td>30.196079</td>\n",
       "      <td>79.0</td>\n",
       "      <td>103.0</td>\n",
       "      <td>751.5</td>\n",
       "      <td>4.30</td>\n",
       "      <td>31.0</td>\n",
       "      <td>-1.5508</td>\n",
       "      <td>14.492782</td>\n",
       "      <td>UnevenCondition</td>\n",
       "      <td>LowCongestionCondition</td>\n",
       "      <td>EvenPaceStyle</td>\n",
       "      <td>Peugeot 207</td>\n",
       "      <td>2</td>\n",
       "    </tr>\n",
       "    <tr>\n",
       "      <th>27525</th>\n",
       "      <td>-0.099998</td>\n",
       "      <td>0.000000</td>\n",
       "      <td>24.735000</td>\n",
       "      <td>142.079260</td>\n",
       "      <td>0.000000</td>\n",
       "      <td>2.0643</td>\n",
       "      <td>30.980392</td>\n",
       "      <td>79.0</td>\n",
       "      <td>103.0</td>\n",
       "      <td>749.5</td>\n",
       "      <td>4.13</td>\n",
       "      <td>31.0</td>\n",
       "      <td>-1.5224</td>\n",
       "      <td>14.492782</td>\n",
       "      <td>UnevenCondition</td>\n",
       "      <td>LowCongestionCondition</td>\n",
       "      <td>EvenPaceStyle</td>\n",
       "      <td>Peugeot 207</td>\n",
       "      <td>2</td>\n",
       "    </tr>\n",
       "    <tr>\n",
       "      <th>27526</th>\n",
       "      <td>0.500000</td>\n",
       "      <td>0.000000</td>\n",
       "      <td>24.075000</td>\n",
       "      <td>148.260888</td>\n",
       "      <td>0.000000</td>\n",
       "      <td>1.8881</td>\n",
       "      <td>29.411766</td>\n",
       "      <td>79.0</td>\n",
       "      <td>103.0</td>\n",
       "      <td>751.5</td>\n",
       "      <td>4.24</td>\n",
       "      <td>31.0</td>\n",
       "      <td>-1.5938</td>\n",
       "      <td>14.492782</td>\n",
       "      <td>UnevenCondition</td>\n",
       "      <td>LowCongestionCondition</td>\n",
       "      <td>EvenPaceStyle</td>\n",
       "      <td>Peugeot 207</td>\n",
       "      <td>2</td>\n",
       "    </tr>\n",
       "    <tr>\n",
       "      <th>27527</th>\n",
       "      <td>0.800003</td>\n",
       "      <td>0.000000</td>\n",
       "      <td>23.505000</td>\n",
       "      <td>156.016751</td>\n",
       "      <td>0.000000</td>\n",
       "      <td>1.8078</td>\n",
       "      <td>29.411766</td>\n",
       "      <td>79.0</td>\n",
       "      <td>103.0</td>\n",
       "      <td>751.5</td>\n",
       "      <td>4.19</td>\n",
       "      <td>31.0</td>\n",
       "      <td>-1.5502</td>\n",
       "      <td>14.492782</td>\n",
       "      <td>UnevenCondition</td>\n",
       "      <td>LowCongestionCondition</td>\n",
       "      <td>EvenPaceStyle</td>\n",
       "      <td>Peugeot 207</td>\n",
       "      <td>2</td>\n",
       "    </tr>\n",
       "  </tbody>\n",
       "</table>\n",
       "<p>27528 rows × 19 columns</p>\n",
       "</div>"
      ],
      "text/plain": [
       "       AltitudeVariation  VehicleSpeedInstantaneous  VehicleSpeedAverage  \\\n",
       "0              -2.299988                  25.670519            13.223501   \n",
       "1              -2.099976                  24.094259            13.638919   \n",
       "2              -1.500000                  22.743179            14.031043   \n",
       "3               0.100037                  22.292820            14.171073   \n",
       "4               0.099976                  23.643900            14.328954   \n",
       "...                  ...                        ...                  ...   \n",
       "27523          -0.500000                   0.000000            26.114999   \n",
       "27524           0.000000                   0.000000            25.395000   \n",
       "27525          -0.099998                   0.000000            24.735000   \n",
       "27526           0.500000                   0.000000            24.075000   \n",
       "27527           0.800003                   0.000000            23.505000   \n",
       "\n",
       "       VehicleSpeedVariance  VehicleSpeedVariation  LongitudinalAcceleration  \\\n",
       "0                121.592690              -2.476980                    0.3555   \n",
       "1                120.422571              -1.576260                    0.4492   \n",
       "2                118.456769              -1.351080                    0.4258   \n",
       "3                117.571308              -0.450359                    0.4140   \n",
       "4                117.074149               1.351080                    0.3945   \n",
       "...                     ...                    ...                       ...   \n",
       "27523            128.927056               0.000000                    2.1969   \n",
       "27524            135.011667               0.000000                    2.1127   \n",
       "27525            142.079260               0.000000                    2.0643   \n",
       "27526            148.260888               0.000000                    1.8881   \n",
       "27527            156.016751               0.000000                    1.8078   \n",
       "\n",
       "       EngineLoad  EngineCoolantTemperature  ManifoldAbsolutePressure  \\\n",
       "0        4.705883                      68.0                     106.0   \n",
       "1       10.588236                      68.0                     103.0   \n",
       "2       27.450981                      68.0                     103.0   \n",
       "3       24.313726                      69.0                     104.0   \n",
       "4       20.000000                      69.0                     104.0   \n",
       "...           ...                       ...                       ...   \n",
       "27523   30.196079                      79.0                     103.0   \n",
       "27524   30.196079                      79.0                     103.0   \n",
       "27525   30.980392                      79.0                     103.0   \n",
       "27526   29.411766                      79.0                     103.0   \n",
       "27527   29.411766                      79.0                     103.0   \n",
       "\n",
       "       EngineRPM  MassAirFlow  IntakeAirTemperature  VerticalAcceleration  \\\n",
       "0         1796.0        15.81                  24.0               -0.1133   \n",
       "1         1689.0        14.65                  22.0               -0.1289   \n",
       "2         1599.0        11.85                  21.0               -0.1328   \n",
       "3         1620.0        12.21                  20.0               -0.0859   \n",
       "4         1708.0        11.91                  21.0               -0.0664   \n",
       "...          ...          ...                   ...                   ...   \n",
       "27523      751.0         4.24                  30.0               -1.5839   \n",
       "27524      751.5         4.30                  31.0               -1.5508   \n",
       "27525      749.5         4.13                  31.0               -1.5224   \n",
       "27526      751.5         4.24                  31.0               -1.5938   \n",
       "27527      751.5         4.19                  31.0               -1.5502   \n",
       "\n",
       "       FuelConsumptionAverage      roadSurface                 traffic  \\\n",
       "0                   19.497335  SmoothCondition  LowCongestionCondition   \n",
       "1                   19.515722  SmoothCondition  LowCongestionCondition   \n",
       "2                   19.441765  SmoothCondition  LowCongestionCondition   \n",
       "3                   19.388769  SmoothCondition  LowCongestionCondition   \n",
       "4                   19.301638  SmoothCondition  LowCongestionCondition   \n",
       "...                       ...              ...                     ...   \n",
       "27523               14.492782  UnevenCondition  LowCongestionCondition   \n",
       "27524               14.492782  UnevenCondition  LowCongestionCondition   \n",
       "27525               14.492782  UnevenCondition  LowCongestionCondition   \n",
       "27526               14.492782  UnevenCondition  LowCongestionCondition   \n",
       "27527               14.492782  UnevenCondition  LowCongestionCondition   \n",
       "\n",
       "        drivingStyle         Make  Source File  \n",
       "0      EvenPaceStyle   Opal Corsa            1  \n",
       "1      EvenPaceStyle   Opal Corsa            1  \n",
       "2      EvenPaceStyle   Opal Corsa            1  \n",
       "3      EvenPaceStyle   Opal Corsa            1  \n",
       "4      EvenPaceStyle   Opal Corsa            1  \n",
       "...              ...          ...          ...  \n",
       "27523  EvenPaceStyle  Peugeot 207            2  \n",
       "27524  EvenPaceStyle  Peugeot 207            2  \n",
       "27525  EvenPaceStyle  Peugeot 207            2  \n",
       "27526  EvenPaceStyle  Peugeot 207            2  \n",
       "27527  EvenPaceStyle  Peugeot 207            2  \n",
       "\n",
       "[27528 rows x 19 columns]"
      ]
     },
     "execution_count": 116,
     "metadata": {},
     "output_type": "execute_result"
    }
   ],
   "source": [
    "data"
   ]
  },
  {
   "cell_type": "code",
   "execution_count": 118,
   "metadata": {},
   "outputs": [],
   "source": [
    "Opel = data.loc[data['Make'] == 'Opal Corsa']\n",
    "Peugeot = data.loc[data['Make'] == 'Peugeot 207']"
   ]
  },
  {
   "cell_type": "markdown",
   "metadata": {},
   "source": []
  },
  {
   "cell_type": "code",
   "execution_count": 120,
   "metadata": {},
   "outputs": [],
   "source": [
    "Op_ = Opel.replace('SmoothCondition', 1)\n",
    "Op_ = Op_.replace('UnevenCondition', 0)"
   ]
  },
  {
   "cell_type": "code",
   "execution_count": 143,
   "metadata": {},
   "outputs": [],
   "source": [
    "Peu_ = Peugeot.replace('SmoothCondition', 1)\n",
    "Peu_ = Peu_.replace('UnevenCondition', 0)\n",
    "Peu_ = Peu_.replace('FullOfHolesCondition', 2)"
   ]
  },
  {
   "cell_type": "code",
   "execution_count": 147,
   "metadata": {},
   "outputs": [],
   "source": [
    "import scipy, pylab"
   ]
  },
  {
   "cell_type": "code",
   "execution_count": 157,
   "metadata": {},
   "outputs": [
    {
     "name": "stderr",
     "output_type": "stream",
     "text": [
      "No handles with labels found to put in legend.\n"
     ]
    },
    {
     "data": {
      "image/png": "[encoded data removed]",
      "text/plain": [
       "<Figure size 432x288 with 2 Axes>"
      ]
     },
     "metadata": {
      "needs_background": "light"
     },
     "output_type": "display_data"
    }
   ],
   "source": [
    "#Feature 1\n",
    "\n",
    "fig, (ax1,ax2) = plt.subplots(nrows=2, ncols=1,sharex = True)\n",
    "\n",
    "ax1.scatter(Op_['AltitudeVariation'],Op_['roadSurface'],color='green')\n",
    "ax2.scatter(Peu_['AltitudeVariation'],Peu_['roadSurface'],color='blue')\n",
    "\n",
    "ax1.legend()\n",
    "\n",
    "ax1.set_title('AltitudeVariation')\n",
    "ax1.grid()\n",
    "ax2.grid()\n",
    "plt.tight_layout()\n",
    "\n",
    "plt.show()\n",
    "\n"
   ]
  },
  {
   "cell_type": "code",
   "execution_count": 158,
   "metadata": {},
   "outputs": [
    {
     "name": "stderr",
     "output_type": "stream",
     "text": [
      "No handles with labels found to put in legend.\n"
     ]
    },
    {
     "data": {
      "image/png": "[encoded data removed]",
      "text/plain": [
       "<Figure size 432x288 with 2 Axes>"
      ]
     },
     "metadata": {
      "needs_background": "light"
     },
     "output_type": "display_data"
    }
   ],
   "source": [
    "#Feature 2\n",
    "\n",
    "fig, (ax1,ax2) = plt.subplots(nrows=2, ncols=1,sharex = True)\n",
    "\n",
    "ax1.scatter(Op_['VehicleSpeedInstantaneous'],Op_['roadSurface'],color='green')\n",
    "ax2.scatter(Peu_['VehicleSpeedInstantaneous'],Peu_['roadSurface'],color='blue')\n",
    "\n",
    "ax1.legend()\n",
    "\n",
    "ax1.set_title('VehicleSpeedInstantaneous')\n",
    "ax1.grid()\n",
    "ax2.grid()\n",
    "plt.tight_layout()\n",
    "\n",
    "plt.show()\n",
    "\n"
   ]
  },
  {
   "cell_type": "code",
   "execution_count": 159,
   "metadata": {
    "scrolled": true
   },
   "outputs": [
    {
     "name": "stderr",
     "output_type": "stream",
     "text": [
      "No handles with labels found to put in legend.\n"
     ]
    },
    {
     "data": {
      "image/png": "[encoded data removed]",
      "text/plain": [
       "<Figure size 432x288 with 2 Axes>"
      ]
     },
     "metadata": {
      "needs_background": "light"
     },
     "output_type": "display_data"
    }
   ],
   "source": [
    "#Feature 3\n",
    "\n",
    "fig, (ax1,ax2) = plt.subplots(nrows=2, ncols=1,sharex = True)\n",
    "\n",
    "ax1.scatter(Op_['VehicleSpeedAverage'],Op_['roadSurface'],color='green')\n",
    "ax2.scatter(Peu_['VehicleSpeedAverage'],Peu_['roadSurface'],color='blue')\n",
    "\n",
    "ax1.legend()\n",
    "\n",
    "ax1.set_title('VehicleSpeedAverage')\n",
    "ax1.grid()\n",
    "ax2.grid()\n",
    "plt.tight_layout()\n",
    "\n",
    "plt.show()\n"
   ]
  },
  {
   "cell_type": "code",
   "execution_count": 160,
   "metadata": {},
   "outputs": [
    {
     "name": "stderr",
     "output_type": "stream",
     "text": [
      "No handles with labels found to put in legend.\n"
     ]
    },
    {
     "data": {
      "image/png": "[encoded data removed]",
      "text/plain": [
       "<Figure size 432x288 with 2 Axes>"
      ]
     },
     "metadata": {
      "needs_background": "light"
     },
     "output_type": "display_data"
    }
   ],
   "source": [
    "#Feature 4\n",
    "\n",
    "fig, (ax1,ax2) = plt.subplots(nrows=2, ncols=1,sharex = True)\n",
    "\n",
    "ax1.scatter(Op_['VehicleSpeedVariance'],Op_['roadSurface'],color='green')\n",
    "ax2.scatter(Peu_['VehicleSpeedVariance'],Peu_['roadSurface'],color='blue')\n",
    "\n",
    "ax1.legend()\n",
    "\n",
    "ax1.set_title('VehicleSpeedAverage')\n",
    "ax1.grid()\n",
    "ax2.grid()\n",
    "plt.tight_layout()\n",
    "\n",
    "plt.show()\n",
    "\n"
   ]
  },
  {
   "cell_type": "code",
   "execution_count": 161,
   "metadata": {},
   "outputs": [
    {
     "name": "stderr",
     "output_type": "stream",
     "text": [
      "No handles with labels found to put in legend.\n"
     ]
    },
    {
     "data": {
      "image/png": "[encoded data removed]",
      "text/plain": [
       "<Figure size 432x288 with 2 Axes>"
      ]
     },
     "metadata": {
      "needs_background": "light"
     },
     "output_type": "display_data"
    }
   ],
   "source": [
    "#Feature 5\n",
    "\n",
    "\n",
    "fig, (ax1,ax2) = plt.subplots(nrows=2, ncols=1,sharex = True)\n",
    "\n",
    "ax1.scatter(Op_['VehicleSpeedVariation'],Op_['roadSurface'],color='green')\n",
    "ax2.scatter(Peu_['VehicleSpeedVariation'],Peu_['roadSurface'],color='blue')\n",
    "\n",
    "ax1.legend()\n",
    "\n",
    "ax1.set_title('VehicleSpeedVariation')\n",
    "ax1.grid()\n",
    "ax2.grid()\n",
    "plt.tight_layout()\n",
    "\n",
    "plt.show()\n"
   ]
  },
  {
   "cell_type": "code",
   "execution_count": 162,
   "metadata": {},
   "outputs": [
    {
     "name": "stderr",
     "output_type": "stream",
     "text": [
      "No handles with labels found to put in legend.\n"
     ]
    },
    {
     "data": {
      "image/png": "[encoded data removed]",
      "text/plain": [
       "<Figure size 432x288 with 2 Axes>"
      ]
     },
     "metadata": {
      "needs_background": "light"
     },
     "output_type": "display_data"
    }
   ],
   "source": [
    "#Feature 6\n",
    "\n",
    "fig, (ax1,ax2) = plt.subplots(nrows=2, ncols=1,sharex = True)\n",
    "\n",
    "ax1.scatter(Op_['LongitudinalAcceleration'],Op_['roadSurface'],color='green')\n",
    "ax2.scatter(Peu_['LongitudinalAcceleration'],Peu_['roadSurface'],color='blue')\n",
    "\n",
    "ax1.legend()\n",
    "\n",
    "ax1.set_title('LongitudinalAcceleration')\n",
    "ax1.grid()\n",
    "ax2.grid()\n",
    "plt.tight_layout()\n",
    "\n",
    "plt.show()"
   ]
  },
  {
   "cell_type": "code",
   "execution_count": 163,
   "metadata": {},
   "outputs": [
    {
     "name": "stderr",
     "output_type": "stream",
     "text": [
      "No handles with labels found to put in legend.\n"
     ]
    },
    {
     "data": {
      "image/png": "[encoded data removed]",
      "text/plain": [
       "<Figure size 432x288 with 2 Axes>"
      ]
     },
     "metadata": {
      "needs_background": "light"
     },
     "output_type": "display_data"
    }
   ],
   "source": [
    "#Feature 7\n",
    "\n",
    "\n",
    "fig, (ax1,ax2) = plt.subplots(nrows=2, ncols=1,sharex = True)\n",
    "\n",
    "ax1.scatter(Op_['EngineLoad'],Op_['roadSurface'],color='green')\n",
    "ax2.scatter(Peu_['EngineLoad'],Peu_['roadSurface'],color='blue')\n",
    "\n",
    "ax1.legend()\n",
    "\n",
    "ax1.set_title('EngineLoad')\n",
    "ax1.grid()\n",
    "ax2.grid()\n",
    "plt.tight_layout()\n",
    "\n",
    "plt.show()"
   ]
  },
  {
   "cell_type": "code",
   "execution_count": 164,
   "metadata": {},
   "outputs": [
    {
     "name": "stderr",
     "output_type": "stream",
     "text": [
      "No handles with labels found to put in legend.\n"
     ]
    },
    {
     "data": {
      "image/png": "[encoded data removed]",
      "text/plain": [
       "<Figure size 432x288 with 2 Axes>"
      ]
     },
     "metadata": {
      "needs_background": "light"
     },
     "output_type": "display_data"
    }
   ],
   "source": [
    "#Feature 8\n",
    "\n",
    "\n",
    "fig, (ax1,ax2) = plt.subplots(nrows=2, ncols=1,sharex = True)\n",
    "\n",
    "ax1.scatter(Op_['EngineCoolantTemperature'],Op_['roadSurface'],color='green')\n",
    "ax2.scatter(Peu_['EngineCoolantTemperature'],Peu_['roadSurface'],color='blue')\n",
    "\n",
    "ax1.legend()\n",
    "\n",
    "ax1.set_title('EngineCoolantTemperature')\n",
    "ax1.grid()\n",
    "ax2.grid()\n",
    "plt.tight_layout()\n",
    "\n",
    "plt.show()"
   ]
  },
  {
   "cell_type": "code",
   "execution_count": 165,
   "metadata": {},
   "outputs": [
    {
     "name": "stderr",
     "output_type": "stream",
     "text": [
      "No handles with labels found to put in legend.\n"
     ]
    },
    {
     "data": {
      "image/png": "[encoded data removed]",
      "text/plain": [
       "<Figure size 432x288 with 2 Axes>"
      ]
     },
     "metadata": {
      "needs_background": "light"
     },
     "output_type": "display_data"
    }
   ],
   "source": [
    "#Feature 9\n",
    "\n",
    "\n",
    "fig, (ax1,ax2) = plt.subplots(nrows=2, ncols=1,sharex = True)\n",
    "\n",
    "ax1.scatter(Op_['ManifoldAbsolutePressure'],Op_['roadSurface'],color='green')\n",
    "ax2.scatter(Peu_['ManifoldAbsolutePressure'],Peu_['roadSurface'],color='blue')\n",
    "\n",
    "ax1.legend()\n",
    "\n",
    "ax1.set_title('ManifoldAbsolutePressure')\n",
    "ax1.grid()\n",
    "ax2.grid()\n",
    "plt.tight_layout()\n",
    "\n",
    "plt.show()"
   ]
  },
  {
   "cell_type": "code",
   "execution_count": null,
   "metadata": {},
   "outputs": [],
   "source": []
  },
  {
   "cell_type": "code",
   "execution_count": 166,
   "metadata": {},
   "outputs": [
    {
     "name": "stderr",
     "output_type": "stream",
     "text": [
      "No handles with labels found to put in legend.\n"
     ]
    },
    {
     "data": {
      "image/png": "[encoded data removed]",
      "text/plain": [
       "<Figure size 432x288 with 2 Axes>"
      ]
     },
     "metadata": {
      "needs_background": "light"
     },
     "output_type": "display_data"
    }
   ],
   "source": [
    "#Feature 10\n",
    "\n",
    "\n",
    "fig, (ax1,ax2) = plt.subplots(nrows=2, ncols=1,sharex = True)\n",
    "\n",
    "ax1.scatter(Op_['EngineRPM'],Op_['roadSurface'],color='green')\n",
    "ax2.scatter(Peu_['EngineRPM'],Peu_['roadSurface'],color='blue')\n",
    "\n",
    "ax1.legend()\n",
    "\n",
    "ax1.set_title('EngineRPM')\n",
    "ax1.grid()\n",
    "ax2.grid()\n",
    "plt.tight_layout()\n",
    "\n",
    "plt.show()"
   ]
  },
  {
   "cell_type": "code",
   "execution_count": 167,
   "metadata": {},
   "outputs": [
    {
     "name": "stderr",
     "output_type": "stream",
     "text": [
      "No handles with labels found to put in legend.\n"
     ]
    },
    {
     "data": {
      "image/png": "[encoded data removed]",
      "text/plain": [
       "<Figure size 432x288 with 2 Axes>"
      ]
     },
     "metadata": {
      "needs_background": "light"
     },
     "output_type": "display_data"
    }
   ],
   "source": [
    "#Feature 11\n",
    "\n",
    "\n",
    "fig, (ax1,ax2) = plt.subplots(nrows=2, ncols=1,sharex = True)\n",
    "\n",
    "ax1.scatter(Op_['MassAirFlow'],Op_['roadSurface'],color='green')\n",
    "ax2.scatter(Peu_['MassAirFlow'],Peu_['roadSurface'],color='blue')\n",
    "\n",
    "ax1.legend()\n",
    "\n",
    "ax1.set_title('MassAirFlow')\n",
    "ax1.grid()\n",
    "ax2.grid()\n",
    "plt.tight_layout()\n",
    "\n",
    "plt.show()"
   ]
  },
  {
   "cell_type": "code",
   "execution_count": 168,
   "metadata": {},
   "outputs": [
    {
     "name": "stderr",
     "output_type": "stream",
     "text": [
      "No handles with labels found to put in legend.\n"
     ]
    },
    {
     "data": {
      "image/png": "[encoded data removed]",
      "text/plain": [
       "<Figure size 432x288 with 2 Axes>"
      ]
     },
     "metadata": {
      "needs_background": "light"
     },
     "output_type": "display_data"
    }
   ],
   "source": [
    "#Feature 12\n",
    "\n",
    "\n",
    "fig, (ax1,ax2) = plt.subplots(nrows=2, ncols=1,sharex = True)\n",
    "\n",
    "ax1.scatter(Op_['IntakeAirTemperature'],Op_['roadSurface'],color='green')\n",
    "ax2.scatter(Peu_['IntakeAirTemperature'],Peu_['roadSurface'],color='blue')\n",
    "\n",
    "ax1.legend()\n",
    "\n",
    "ax1.set_title('IntakeAirTemperature')\n",
    "ax1.grid()\n",
    "ax2.grid()\n",
    "plt.tight_layout()\n",
    "\n",
    "plt.show()"
   ]
  },
  {
   "cell_type": "code",
   "execution_count": 169,
   "metadata": {},
   "outputs": [
    {
     "name": "stderr",
     "output_type": "stream",
     "text": [
      "No handles with labels found to put in legend.\n"
     ]
    },
    {
     "data": {
      "image/png": "[encoded data removed]",
      "text/plain": [
       "<Figure size 432x288 with 2 Axes>"
      ]
     },
     "metadata": {
      "needs_background": "light"
     },
     "output_type": "display_data"
    }
   ],
   "source": [
    "#Feature 13\n",
    "\n",
    "\n",
    "fig, (ax1,ax2) = plt.subplots(nrows=2, ncols=1,sharex = True)\n",
    "\n",
    "ax1.scatter(Op_['VerticalAcceleration'],Op_['roadSurface'],color='green')\n",
    "ax2.scatter(Peu_['VerticalAcceleration'],Peu_['roadSurface'],color='blue')\n",
    "\n",
    "ax1.legend()\n",
    "\n",
    "ax1.set_title('VerticalAcceleration')\n",
    "ax1.grid()\n",
    "ax2.grid()\n",
    "plt.tight_layout()\n",
    "\n",
    "plt.show()"
   ]
  },
  {
   "cell_type": "code",
   "execution_count": 170,
   "metadata": {},
   "outputs": [
    {
     "name": "stderr",
     "output_type": "stream",
     "text": [
      "No handles with labels found to put in legend.\n"
     ]
    },
    {
     "data": {
      "image/png": "[encoded data removed]",
      "text/plain": [
       "<Figure size 432x288 with 2 Axes>"
      ]
     },
     "metadata": {
      "needs_background": "light"
     },
     "output_type": "display_data"
    }
   ],
   "source": [
    "#Feature 14\n",
    "\n",
    "fig, (ax1,ax2) = plt.subplots(nrows=2, ncols=1,sharex = True)\n",
    "\n",
    "ax1.scatter(Op_['FuelConsumptionAverage'],Op_['roadSurface'],color='green')\n",
    "ax2.scatter(Peu_['FuelConsumptionAverage'],Peu_['roadSurface'],color='blue')\n",
    "\n",
    "ax1.legend()\n",
    "\n",
    "ax1.set_title('FuelConsumptionAverage')\n",
    "ax1.grid()\n",
    "ax2.grid()\n",
    "plt.tight_layout()\n",
    "\n",
    "plt.show()"
   ]
  },
  {
   "cell_type": "code",
   "execution_count": null,
   "metadata": {},
   "outputs": [],
   "source": []
  },
  {
   "cell_type": "code",
   "execution_count": null,
   "metadata": {},
   "outputs": [],
   "source": []
  },
  {
   "cell_type": "code",
   "execution_count": null,
   "metadata": {},
   "outputs": [],
   "source": []
  },
  {
   "cell_type": "code",
   "execution_count": null,
   "metadata": {},
   "outputs": [],
   "source": []
  },
  {
   "cell_type": "code",
   "execution_count": null,
   "metadata": {},
   "outputs": [],
   "source": []
  },
  {
   "cell_type": "code",
   "execution_count": null,
   "metadata": {},
   "outputs": [],
   "source": []
  }
 ],
 "metadata": {
  "kernelspec": {
   "display_name": "Python 3",
   "language": "python",
   "name": "python3"
  },
  "language_info": {
   "codemirror_mode": {
    "name": "ipython",
    "version": 3
   },
   "file_extension": ".py",
   "mimetype": "text/x-python",
   "name": "python",
   "nbconvert_exporter": "python",
   "pygments_lexer": "ipython3",
   "version": "3.8.5"
  }
 },
 "nbformat": 4,
 "nbformat_minor": 4
}
